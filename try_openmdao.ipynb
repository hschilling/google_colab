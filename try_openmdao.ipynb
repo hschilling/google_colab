{
  "nbformat": 4,
  "nbformat_minor": 0,
  "metadata": {
    "colab": {
      "name": "try_openmdao.ipynb",
      "provenance": [],
      "authorship_tag": "ABX9TyMyYYnzAboSMiJEZHqWNnv2",
      "include_colab_link": true
    },
    "kernelspec": {
      "name": "python3",
      "display_name": "Python 3"
    }
  },
  "cells": [
    {
      "cell_type": "markdown",
      "metadata": {
        "id": "view-in-github",
        "colab_type": "text"
      },
      "source": [
        "<a href=\"https://colab.research.google.com/github/hschilling/google_colab/blob/master/try_openmdao.ipynb\" target=\"_parent\"><img src=\"https://colab.research.google.com/assets/colab-badge.svg\" alt=\"Open In Colab\"/></a>"
      ]
    },
    {
      "cell_type": "code",
      "metadata": {
        "id": "AHLwiLSb8McI",
        "colab_type": "code",
        "colab": {}
      },
      "source": [
        ""
      ],
      "execution_count": 0,
      "outputs": []
    },
    {
      "cell_type": "code",
      "metadata": {
        "id": "VIuMZDx28RDy",
        "colab_type": "code",
        "colab": {
          "base_uri": "https://localhost:8080/",
          "height": 451
        },
        "outputId": "87051baf-860c-485c-c8e4-1b112a4584ba"
      },
      "source": [
        "! pip install openmdao"
      ],
      "execution_count": 1,
      "outputs": [
        {
          "output_type": "stream",
          "text": [
            "Collecting openmdao\n",
            "\u001b[?25l  Downloading https://files.pythonhosted.org/packages/fa/27/1bebd39ca3a15d06950b2aeffceb99d65dd4a18ec0f5c03b35023a6c1e63/openmdao-3.0.0.tar.gz (4.4MB)\n",
            "\u001b[K     |████████████████████████████████| 4.4MB 1.4MB/s \n",
            "\u001b[?25hRequirement already satisfied: urllib3<1.25 in /usr/local/lib/python3.6/dist-packages (from openmdao) (1.24.3)\n",
            "Requirement already satisfied: networkx>=2.0 in /usr/local/lib/python3.6/dist-packages (from openmdao) (2.4)\n",
            "Requirement already satisfied: numpy in /usr/local/lib/python3.6/dist-packages (from openmdao) (1.18.2)\n",
            "Collecting pyDOE2\n",
            "  Downloading https://files.pythonhosted.org/packages/70/1f/8a2e1b57f6dd22cd2002e4332e229e87a3858d560c516b50ab7fe5bb075c/pyDOE2-1.3.0.tar.gz\n",
            "Requirement already satisfied: pyparsing in /usr/local/lib/python3.6/dist-packages (from openmdao) (2.4.6)\n",
            "Requirement already satisfied: scipy in /usr/local/lib/python3.6/dist-packages (from openmdao) (1.4.1)\n",
            "Requirement already satisfied: requests in /usr/local/lib/python3.6/dist-packages (from openmdao) (2.21.0)\n",
            "Requirement already satisfied: decorator>=4.3.0 in /usr/local/lib/python3.6/dist-packages (from networkx>=2.0->openmdao) (4.4.2)\n",
            "Requirement already satisfied: chardet<3.1.0,>=3.0.2 in /usr/local/lib/python3.6/dist-packages (from requests->openmdao) (3.0.4)\n",
            "Requirement already satisfied: idna<2.9,>=2.5 in /usr/local/lib/python3.6/dist-packages (from requests->openmdao) (2.8)\n",
            "Requirement already satisfied: certifi>=2017.4.17 in /usr/local/lib/python3.6/dist-packages (from requests->openmdao) (2019.11.28)\n",
            "Building wheels for collected packages: openmdao, pyDOE2\n",
            "  Building wheel for openmdao (setup.py) ... \u001b[?25l\u001b[?25hdone\n",
            "  Created wheel for openmdao: filename=openmdao-3.0.0-cp36-none-any.whl size=4626730 sha256=462af1323f26eeb9182c2328a6b0d53060b348119dcf28bcbd4a9b7efad3d1a8\n",
            "  Stored in directory: /root/.cache/pip/wheels/ad/8f/77/c58ef6cab51fe796172ce215f1c66319164def6edf11c43b88\n",
            "  Building wheel for pyDOE2 (setup.py) ... \u001b[?25l\u001b[?25hdone\n",
            "  Created wheel for pyDOE2: filename=pyDOE2-1.3.0-cp36-none-any.whl size=25519 sha256=49d3eb930dc46d6ff64444e873e31fb4013f2b53ca8fc903ce7c45f48d6003ae\n",
            "  Stored in directory: /root/.cache/pip/wheels/60/88/1d/b334ee00dd83e82d111ec56c3be91573d335c93870698037f1\n",
            "Successfully built openmdao pyDOE2\n",
            "Installing collected packages: pyDOE2, openmdao\n",
            "Successfully installed openmdao-3.0.0 pyDOE2-1.3.0\n"
          ],
          "name": "stdout"
        }
      ]
    },
    {
      "cell_type": "code",
      "metadata": {
        "id": "DnDGeZ9C8VuS",
        "colab_type": "code",
        "colab": {
          "base_uri": "https://localhost:8080/",
          "height": 208
        },
        "outputId": "873aff45-d956-4f0d-860e-0adf81ce80cd"
      },
      "source": [
        "import openmdao.api as om\n",
        "\n",
        "# build the model\n",
        "prob = om.Problem()\n",
        "indeps = prob.model.add_subsystem('indeps', om.IndepVarComp())\n",
        "indeps.add_output('x', 3.0)\n",
        "indeps.add_output('y', -4.0)\n",
        "\n",
        "prob.model.add_subsystem('paraboloid', om.ExecComp('f = (x-3)**2 + x*y + (y+4)**2 - 3'))\n",
        "\n",
        "prob.model.connect('indeps.x', 'paraboloid.x')\n",
        "prob.model.connect('indeps.y', 'paraboloid.y')\n",
        "\n",
        "# setup the optimization\n",
        "prob.driver = om.ScipyOptimizeDriver()\n",
        "prob.driver.options['optimizer'] = 'SLSQP'\n",
        "\n",
        "prob.model.add_design_var('indeps.x', lower=-50, upper=50)\n",
        "prob.model.add_design_var('indeps.y', lower=-50, upper=50)\n",
        "prob.model.add_objective('paraboloid.f')\n",
        "\n",
        "prob.setup()\n",
        "prob.run_driver()\n",
        "\n",
        "# minimum value\n",
        "print(prob['paraboloid.f'])\n",
        "\n",
        "# location of the minimum\n",
        "print(prob['indeps.x'])\n",
        "print(prob['indeps.y'])"
      ],
      "execution_count": 2,
      "outputs": [
        {
          "output_type": "stream",
          "text": [
            "Unable to import mpi4py. Parallel processing unavailable.\n",
            "Optimization terminated successfully.    (Exit mode 0)\n",
            "            Current function value: -27.33333333333333\n",
            "            Iterations: 5\n",
            "            Function evaluations: 6\n",
            "            Gradient evaluations: 5\n",
            "Optimization Complete\n",
            "-----------------------------------\n",
            "[-27.33333333]\n",
            "[6.66666667]\n",
            "[-7.33333333]\n"
          ],
          "name": "stdout"
        }
      ]
    },
    {
      "cell_type": "code",
      "metadata": {
        "id": "QTzDCJT98lic",
        "colab_type": "code",
        "colab": {
          "base_uri": "https://localhost:8080/",
          "height": 488
        },
        "outputId": "0915ba8d-fb5f-4225-cd45-5dcead9564a3"
      },
      "source": [
        "import numpy as np\n",
        "import openmdao.api as om\n",
        "\n",
        "class ArrayComp2D(om.ExplicitComponent):\n",
        "    \"\"\"\n",
        "    A fairly simple array component with an intentional error in compute_partials.\n",
        "    \"\"\"\n",
        "    def setup(self):\n",
        "        self.JJ = np.array([[1.0, 0.0, 0.0, 7.0],\n",
        "                            [0.0, 2.5, 0.0, 0.0],\n",
        "                            [-1.0, 0.0, 8.0, 0.0],\n",
        "                            [0.0, 4.0, 0.0, 6.0]])\n",
        "        # Params\n",
        "        self.add_input('x1', np.zeros([4]))\n",
        "        # Unknowns\n",
        "        self.add_output('y1', np.zeros([4]))\n",
        "        self.declare_partials(of='*', wrt='*')\n",
        "\n",
        "    def compute(self, inputs, outputs):\n",
        "        \"\"\"\n",
        "        Execution.\n",
        "        \"\"\"\n",
        "        outputs['y1'] = self.JJ.dot(inputs['x1'])\n",
        "\n",
        "    def compute_partials(self, inputs, partials):\n",
        "        \"\"\"\n",
        "        Analytical derivatives.\n",
        "        \"\"\"\n",
        "        # create some error to force the diff plot to show something\n",
        "        error = np.zeros((4, 4))\n",
        "        err = 1e-7\n",
        "        error[0][3] = err\n",
        "        error[1][2] = - 2.0 * err\n",
        "        partials[('y1', 'x1')] = self.JJ + error\n",
        "\n",
        "prob = om.Problem()\n",
        "model = prob.model\n",
        "model.add_subsystem('x_param1', om.IndepVarComp('x1', np.ones((4))), promotes=['x1'])\n",
        "model.add_subsystem('mycomp', ArrayComp2D(), promotes=['x1', 'y1'])\n",
        "prob.setup(check=False, mode='fwd')\n",
        "check_partials_data = prob.check_partials(out_stream=None)\n",
        "\n",
        "# plot with defaults\n",
        "om.partial_deriv_plot('y1', 'x1', check_partials_data)\n"
      ],
      "execution_count": 3,
      "outputs": [
        {
          "output_type": "display_data",
          "data": {
            "image/png": "[encoded data removed]",
            "text/plain": [
              "<Figure size 864x432 with 5 Axes>"
            ]
          },
          "metadata": {
            "tags": []
          }
        },
        {
          "output_type": "execute_result",
          "data": {
            "text/plain": [
              "(<Figure size 864x432 with 5 Axes>,\n",
              " array([<matplotlib.axes._subplots.AxesSubplot object at 0x7f68cc0b5e10>,\n",
              "        <matplotlib.axes._subplots.AxesSubplot object at 0x7f68db458f28>,\n",
              "        <matplotlib.axes._subplots.AxesSubplot object at 0x7f68cc059940>],\n",
              "       dtype=object))"
            ]
          },
          "metadata": {
            "tags": []
          },
          "execution_count": 3
        }
      ]
    },
    {
      "cell_type": "code",
      "metadata": {
        "id": "n6Xz0DCv8_w-",
        "colab_type": "code",
        "colab": {}
      },
      "source": [
        ""
      ],
      "execution_count": 0,
      "outputs": []
    }
  ]
}